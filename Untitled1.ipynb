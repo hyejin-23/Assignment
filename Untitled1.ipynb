{
 "cells": [
  {
   "cell_type": "markdown",
   "id": "35b23277-6446-482a-bd2c-0f7659af8ea9",
   "metadata": {},
   "source": [
    "# 3번"
   ]
  },
  {
   "cell_type": "code",
   "execution_count": 5,
   "id": "a3f6f2ac-56f4-4b1b-8d9b-01e83f3a9274",
   "metadata": {},
   "outputs": [
    {
     "name": "stdout",
     "output_type": "stream",
     "text": [
      "생일이 가장 늦은 친구 10명:\n",
      "학번: ******82, 이름: 홍서연, 생년월일: 20241282\n",
      "학번: ******22, 이름: 신수민, 생년월일: 20051230\n",
      "학번: ******42, 이름: 이서영, 생년월일: 20051225\n",
      "학번: ******69, 이름: 강민주, 생년월일: 20051214\n",
      "학번: ******78, 이름: 김민경, 생년월일: 20051202\n",
      "학번: ******41, 이름: 이서영, 생년월일: 20051112\n",
      "학번: ******17, 이름: 배시은, 생년월일: 20051102\n",
      "학번: ******87, 이름: 김여원, 생년월일: 20051031\n",
      "학번: ******44, 이름: 이서진, 생년월일: 20051028\n",
      "학번: ******64, 이름: 서홍빈, 생년월일: 20051024\n"
     ]
    }
   ],
   "source": [
    "# heap.py 코드\n",
    "class Heap:\n",
    "    def __init__(self, *args):\n",
    "        if len(args) != 0:\n",
    "            self.__A = args[0]  # 파라미터로 온 리스트\n",
    "        else:\n",
    "            self.__A = []\n",
    "\n",
    "    # 힙에 원소 삽입하기\n",
    "    def insert(self, x):\n",
    "        self.__A.append(x)\n",
    "        self.__percolateUp(len(self.__A) - 1)\n",
    "\n",
    "    # 스며오르기\n",
    "    def __percolateUp(self, i: int):\n",
    "        parent = (i - 1) // 2\n",
    "        if i > 0 and self.__A[i] > self.__A[parent]:\n",
    "            self.__A[i], self.__A[parent] = self.__A[parent], self.__A[i]\n",
    "            self.__percolateUp(parent)\n",
    "\n",
    "    # 힙에서 원소 삭제하기\n",
    "    def deleteMax(self):\n",
    "        if not self.isEmpty():\n",
    "            max = self.__A[0]\n",
    "            self.__A[0] = self.__A.pop()  # 리스트 끝 원소 삭제 후 루트에 복사\n",
    "            self.__percolateDown(0)\n",
    "            return max\n",
    "        else:\n",
    "            return None\n",
    "\n",
    "    # 스며내리기\n",
    "    def __percolateDown(self, i: int):\n",
    "        child = 2 * i + 1  # 왼쪽 자식\n",
    "        right = 2 * i + 2  # 오른쪽 자식\n",
    "        if child <= len(self.__A) - 1:\n",
    "            if right <= len(self.__A) - 1 and self.__A[child] < self.__A[right]:\n",
    "                child = right  # 더 큰 자식 선택\n",
    "            if self.__A[i] < self.__A[child]:\n",
    "                self.__A[i], self.__A[child] = self.__A[child], self.__A[i]\n",
    "                self.__percolateDown(child)\n",
    "\n",
    "    def max(self):\n",
    "        return self.__A[0]\n",
    "\n",
    "    def buildHeap(self):\n",
    "        for i in range((len(self.__A) - 2) // 2, -1, -1):\n",
    "            self.__percolateDown(i)\n",
    "\n",
    "    def isEmpty(self) -> bool:\n",
    "        return len(self.__A) == 0\n",
    "\n",
    "    def clear(self):\n",
    "        self.__A = []\n",
    "\n",
    "    def size(self) -> int:\n",
    "        return len(self.__A)\n",
    "\n",
    "\n",
    "import csv\n",
    "\n",
    "# 힙 객체 생성\n",
    "heap = Heap()\n",
    "\n",
    "# CSV 파일 읽기\n",
    "with open('birthday.csv', 'r', encoding='utf-8') as file:\n",
    "    reader = csv.reader(file)\n",
    "    next(reader)  # 첫 줄 (헤더) 건너뛰기\n",
    "    for row in reader:\n",
    "        if len(row) < 3:\n",
    "            continue  # 누락된 데이터가 있는 줄은 건너뛰기\n",
    "        student_id, name, birthday = row\n",
    "        if not birthday.strip():  # 생년월일이 비어 있으면 건너뛰기\n",
    "            continue\n",
    "        try:\n",
    "            heap.insert((int(birthday), student_id, name))\n",
    "        except ValueError:\n",
    "            continue  # 혹시 모를 잘못된 값 (문자열 등) 건너뛰기\n",
    "\n",
    "# 생일이 가장 늦은 10명 출력\n",
    "print(\"생일이 가장 늦은 친구 10명:\")\n",
    "for _ in range(10):\n",
    "    if not heap.isEmpty():\n",
    "        birthday, student_id, name = heap.deleteMax()\n",
    "        print(f\"학번: {student_id}, 이름: {name}, 생년월일: {birthday}\")"
   ]
  },
  {
   "cell_type": "markdown",
   "id": "befdf4ef-f77f-4972-8c3b-56b9a827f362",
   "metadata": {},
   "source": [
    "# 4번"
   ]
  },
  {
   "cell_type": "code",
   "execution_count": 4,
   "id": "e4bc508d-ce3a-4b68-a291-30af1c83e8fc",
   "metadata": {},
   "outputs": [
    {
     "name": "stdout",
     "output_type": "stream",
     "text": [
      "이름: 강민주, 생년월일: 20051214\n",
      "이름: 김나현, 생년월일: 20040203\n",
      "이름: 김민주, 생년월일: 20041026\n",
      "이름: 김시연, 생년월일: 20030910\n",
      "이름: 나주희, 생년월일: 20041104\n",
      "이름: 두경은, 생년월일: 20041105\n",
      "이름: 민고은, 생년월일: 20050214\n",
      "이름: 박지호, 생년월일: 20040728\n",
      "이름: 손지원, 생년월일: 20050620\n",
      "이름: 안정민, 생년월일: 20040501\n",
      "이름: 여지혜, 생년월일: 20051009\n",
      "이름: 윤혜진, 생년월일: 20050517\n",
      "이름: 이서영, 생년월일: 20051112\n",
      "이름: 이서영, 생년월일: 20051225\n",
      "이름: 이유빈, 생년월일: 20050601\n"
     ]
    }
   ],
   "source": [
    "import csv\n",
    "\n",
    "class BidirectNode:\n",
    "    def __init__(self, item, prev, next):\n",
    "        self.item = item\n",
    "        self.prev = prev\n",
    "        self.next = next\n",
    "\n",
    "class CircularDoublyLinkedList:\n",
    "    def __init__(self):\n",
    "        self.__head = BidirectNode(\"dummy\", None, None)\n",
    "        self.__head.prev = self.__head\n",
    "        self.__head.next = self.__head\n",
    "        self.__numItems = 0\n",
    "\n",
    "    def append(self, newItem) -> None:\n",
    "        prev = self.__head.prev\n",
    "        newNode = BidirectNode(newItem, prev, self.__head)\n",
    "        prev.next = newNode\n",
    "        self.__head.prev = newNode\n",
    "        self.__numItems += 1\n",
    "\n",
    "    def isEmpty(self) -> bool:\n",
    "        return self.__numItems == 0\n",
    "\n",
    "    def getNode(self, i: int) -> BidirectNode:\n",
    "        curr = self.__head  # 더미 헤드\n",
    "        for index in range(i + 1):\n",
    "            curr = curr.next\n",
    "        return curr\n",
    "\n",
    "    def __iter__(self):  # iterator 생성\n",
    "        self.current_node = self.__head.next  # 첫 번째 노드\n",
    "        return self\n",
    "\n",
    "    def __next__(self):\n",
    "        if self.current_node == self.__head:  # 순환 끝\n",
    "            raise StopIteration\n",
    "        else:\n",
    "            item = self.current_node.item\n",
    "            self.current_node = self.current_node.next\n",
    "            return item\n",
    "\n",
    "# 조원 이름 리스트(총 15명)\n",
    "friends = ['두경은', '강민주', '김나현', '김민주', '김시연', '김채연',\n",
    "           '나주희', '민고은', '박지호', '손지원', '안정민', '이서영', '이유빈', '여지혜', '윤혜진']\n",
    "\n",
    "# CircularDoublyLinkedList 인스턴스 생성\n",
    "cdll = CircularDoublyLinkedList()\n",
    "\n",
    "# CSV 파일 읽기\n",
    "with open('birthday.csv', encoding='utf-8') as file:\n",
    "    reader = csv.reader(file)\n",
    "    next(reader)  # 헤더 건너뛰기\n",
    "    for row in reader:\n",
    "        student_id, name, birth = row  # 학번, 이름, 생년월일 분리\n",
    "        cdll.append((student_id, name, birth))  # 데이터 추가\n",
    "\n",
    "# 이미 출력한 친구 저장 (이름 + 생년월일)\n",
    "printed_friends = set()\n",
    "\n",
    "# 김민주 친구 중에서 출력할 생년월일(김민주가 csv파일에 2명 존재)\n",
    "target_kmj_birth = '20041026'\n",
    "\n",
    "# 출력\n",
    "for data in cdll:\n",
    "    student_id, name, birth = data\n",
    "    identifier = (name, birth)  # 이름 + 생일로 중복 체크\n",
    "\n",
    "    if name == '김민주':\n",
    "        if birth == target_kmj_birth and identifier not in printed_friends:\n",
    "            print(f\"이름: {name}, 생년월일: {birth}\")\n",
    "            printed_friends.add(identifier)\n",
    "    elif name in friends and identifier not in printed_friends:\n",
    "        print(f\"이름: {name}, 생년월일: {birth}\")\n",
    "        printed_friends.add(identifier)"
   ]
  },
  {
   "cell_type": "markdown",
   "id": "a747948f-11a6-441e-a68e-71040f92bf60",
   "metadata": {},
   "source": [
    "# 5번 연습문제 8장"
   ]
  },
  {
   "cell_type": "markdown",
   "id": "1d136989-a215-4023-840f-db92fdf23148",
   "metadata": {},
   "source": [
    "### 1번\n",
    "#### 임의의 최대 힙에서 더 얕은 곳에 있는 원소가 더 깊은 곳에 있는 원소보다 더 작은 값을 가질 수 있다.\n",
    "#### 예를 들어보면, heap[1] = 7, heap[2] = 10, heap[5] = 9인 힙이 있다. heap[1]과 heap[2]는 깊이가 같고, \n",
    "#### heap[5]는 heap[1]보다 깊이가 깊지만 값은 작다. heap[5]는 heap[2]의 자식 노드로, heap[2] > heap[5]이기 때문에 힙의 조건을 만족한다."
   ]
  },
  {
   "cell_type": "markdown",
   "id": "0d885209-a8cc-4282-8862-ef07c517f4f0",
   "metadata": {},
   "source": [
    "### 2번\n",
    "#### 최대 힙의 마지막 원소가 항상 가장 작은 값은 아니다.\n",
    "#### heap[0] = 10, heap[1] = 7, heap[2] = 9이고 이 두 노드가 말단 노드인 힙이 있다고 한다. \n",
    "#### 이 힙은 heap[0] > heap[1], heap[0] > heap[2]가 되어 힙의 조건을 만족하며, heap[n-2] < heap[n-1]을 만족하는 힙이다."
   ]
  },
  {
   "cell_type": "markdown",
   "id": "c6d084f8-0698-4586-8ba0-2aac83ee336e",
   "metadata": {},
   "source": [
    "### 3번\n",
    "#### 길이가 n인 임의의 리스트를 힙으로 만들 때, 마지막 요소의 인덱스는 n-1이다. 따라서 인덱스가 \n",
    "#### ((n-1)-1)//2 즉 (n-2)//2부터 0까지의 인덱스를 갖는 요소를 대상으로 스며내리기를 진행한다.\n",
    "#### 따라서 루트의 자격으로 스며내리기를 하지 않고 그냥 넘어가는 원소 수는 정확하게 n-1-(n-2)//2개이다."
   ]
  },
  {
   "cell_type": "markdown",
   "id": "d3c4d486-1509-49ef-81af-6f4c6e9c9933",
   "metadata": {},
   "source": [
    "### 4번\n",
    "#### 길이가 n인 리스트를 대상으로 하는 스며내리기 알고리즘에서 최악의 경우 Θ(logn)의 시간이 소요된다. \n",
    "#### 이진 탐색 트리의 깊이에 따라 층을 나누면 층의 개수는 약 (logn + 1)개가 된다. 스며내리기의 대상이 되는 리스트의 인덱스가 \n",
    "#### 0인 요소가 이 리스트의 가장 작은 값이라면 최악의 경우가 되어, 스며내리기를 logn번 진행해야 한다.\n",
    "#### 최선의 경우에는 Θ(1)의 시간이 소요된다. 스며내리기의 대상이 되는 리스트의 인덱스가 \n",
    "#### 0인 요소가 이 리스트의 가장 큰 값이라면 인덱스가 1, 2인 요소보다 크기 때문에 스며내리기는 진행되지 않고 멈춘다."
   ]
  },
  {
   "cell_type": "markdown",
   "id": "04a96354-e1af-4eef-9e9d-cebf20dcc4ae",
   "metadata": {},
   "source": [
    "### 5번\n",
    "#### 이 문제에서 말하는 마지막 원소가 단순히 리스트의 마지막 원소라면 매우 간단히 원소를 삭제할 수 있다.\n",
    "\n",
    "#### 하지만 여기서 말하는 마지막 원소가 우선순위의 마지막이 되는 원소라면 힙의 마지막 원소를 삭제하는 작업은 간단하지는 않다. \n",
    "#### 연습문제 2번에서 확인한 바와 같이 마지막 원소가 항상 가장 작은 값을 가지지도 않고, 연습문제 1번에서 확인한 바와 같이 깊이가 \n",
    "#### 깊은 원소가 항상 깊이가 얕은 원소보다 작은 값을 가지지도 않는다.\n",
    "#### 하지만 힙의 특성상 자식 노드는 부모 노드보다 작은 값을 가지기 때문에, 깊이가 2인 모든 서브 트리들의 원소들만 비교하면 \n",
    "#### 가장 마지막 원소를 어렵지 않게 찾을 수 있다. 겨우 깊이가 2인 서브 트리이기 때문에 원소의 삭제 작업도 간단하다."
   ]
  },
  {
   "cell_type": "markdown",
   "id": "4930f714-a0ba-4613-bc6a-b337f9dcf5ff",
   "metadata": {},
   "source": [
    "### 6번\n",
    "#### 위쪽부터 시작해서 스며오르기를 반복하여 build_heap() 알고리즘을 구현한다고 해보자. \n",
    "#### index가 0인 요소에는 이미 맨 위의 요소이므로 스며오르기를 할 수 없다. \n",
    "#### 따라서 index가 1인 요소부터 index가 n-1(마지막)인 요소까지 진행한다. 처음 스며오르기를 진행할 땐 대상 노드의 깊이가 얕기 때문에 비교와 교체 작업이 많지 않지만, index가 커질수록 대상 노드의 깊이가 깊어져 스며오르기를 logn번 진행해야 할 수도 있다.\n",
    "#### n/2 * logn + n/4 * log(n-1) + n/8 * log(n-2) + ... + n/(2**(n-1)) * log2 즉 Θ(nlogn)의 시간이 소요된다. 이 방법은 Θ(n)의 시간이 소요되는 스며내리기를  이용한 build_heap() 알고리즘보다 비효율적이다."
   ]
  },
  {
   "cell_type": "markdown",
   "id": "a3c67db0-eca6-497f-ac2c-d7a5eb94a818",
   "metadata": {},
   "source": [
    "### 7번\n",
    "#### 임의의 원소의 값이 증가했다면, 그 원소에 해당하는 노드를 제거하는 delete_max() 작업을 실행한다. \n",
    "#### 이 작업에 소요되는 시간은 O(logn)이다. \n",
    "#### 그리고 증가한 원소의 값을 갖는 노드를 힙에 추가한다. 노드를 추가하는 작업 insert()는 O(logn)의 시간이 든다.\n",
    "#### 이 두 작업을 통해 힙을 O(logn) 시간만에 변화를 반영하여 힙을 수선할 수 있다."
   ]
  },
  {
   "cell_type": "markdown",
   "id": "4ca50732-b0a8-4869-9a70-2e51b5116152",
   "metadata": {},
   "source": [
    "# 6번 LeetCode 703"
   ]
  },
  {
   "cell_type": "code",
   "execution_count": 1,
   "id": "08cfe0a0-6268-46ea-870c-6e293a6a999b",
   "metadata": {},
   "outputs": [
    {
     "name": "stdout",
     "output_type": "stream",
     "text": [
      "4\n",
      "5\n",
      "5\n",
      "8\n",
      "8\n"
     ]
    }
   ],
   "source": [
    "import heapq\n",
    "\n",
    "class KthLargest:\n",
    "\n",
    "    def __init__(self, k: int, nums: list[int]):\n",
    "        self.k = k\n",
    "        self.heap = nums\n",
    "        heapq.heapify(self.heap)\n",
    "\n",
    "        while len(self.heap) > k:\n",
    "            heapq.heappop(self.heap)\n",
    "\n",
    "    def add(self, val: int) -> int:\n",
    "        heapq.heappush(self.heap, val)\n",
    "\n",
    "        if len(self.heap) > self.k:\n",
    "            heapq.heappop(self.heap)\n",
    "\n",
    "        return self.heap[0]\n",
    "        \n",
    "# 사용예시 \n",
    "kthLargest = KthLargest(3, [4, 5, 8, 2])\n",
    "print(kthLargest.add(3))  \n",
    "print(kthLargest.add(5))  \n",
    "print(kthLargest.add(10)) \n",
    "print(kthLargest.add(9))  \n",
    "print(kthLargest.add(4))  "
   ]
  }
 ],
 "metadata": {
  "kernelspec": {
   "display_name": "Python 3 (ipykernel)",
   "language": "python",
   "name": "python3"
  },
  "language_info": {
   "codemirror_mode": {
    "name": "ipython",
    "version": 3
   },
   "file_extension": ".py",
   "mimetype": "text/x-python",
   "name": "python",
   "nbconvert_exporter": "python",
   "pygments_lexer": "ipython3",
   "version": "3.12.7"
  }
 },
 "nbformat": 4,
 "nbformat_minor": 5
}
